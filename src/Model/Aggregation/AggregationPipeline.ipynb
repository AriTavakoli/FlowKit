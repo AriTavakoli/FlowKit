{
 "cells": [
  {
   "cell_type": "code",
   "execution_count": 102,
   "metadata": {},
   "outputs": [],
   "source": [
    "import json\n",
    "import os\n",
    "from termcolor import colored\n",
    "\n",
    "# Define folder and file paths\n",
    "input_folder = './PreAggregation/'\n",
    "\n",
    "output_jsonL = './Aggregated/JsonL/'\n",
    "output_json = './Aggregated/Json/'\n",
    "\n",
    "output_jsonl_file = 'output_data.jsonl'\n",
    "output_json_file = 'output_data.json'\n",
    "\n",
    "input_files = [f for f in os.listdir(input_folder) if f.endswith('.json')]\n",
    "\n",
    "combined_jsonl_data = []\n",
    "\n",
    "def process_file(input_path):\n",
    "    with open(input_path, 'r') as f:\n",
    "        json_data = json.load(f)\n",
    "\n",
    "    template_name = json_data[\"templateName\"]\n",
    "\n",
    "    jsonl_data = {\n",
    "        \"prompt\": template_name,\n",
    "        \"completion\": json_data\n",
    "    }\n",
    "    return jsonl_data\n",
    "\n",
    "for input_file in input_files:\n",
    "    input_path = os.path.join(input_folder, input_file)\n",
    "    jsonl_data = process_file(input_path)\n",
    "    combined_jsonl_data.append(jsonl_data)\n",
    "\n",
    "# Ensure the output folders exist\n",
    "os.makedirs(output_jsonL, exist_ok=True)\n",
    "os.makedirs(output_json, exist_ok=True)\n",
    "\n",
    "output_jsonl_path = os.path.join(output_jsonL, output_jsonl_file)\n",
    "output_json_path = os.path.join(output_json, output_json_file)\n",
    "\n",
    "# Write the combined JSONL data to a single JSONL file\n",
    "with open(output_jsonl_path, 'w') as f:\n",
    "    for item in combined_jsonl_data:\n",
    "        f.write(json.dumps(item) + '\\n')\n",
    "\n",
    "# Write the combined JSON data to a single JSON file\n",
    "with open(output_json_path, 'w') as f:\n",
    "    json.dump(combined_jsonl_data, f, indent=2)\n"
   ]
  }
 ],
 "metadata": {
  "kernelspec": {
   "display_name": "Python 3",
   "language": "python",
   "name": "python3"
  },
  "language_info": {
   "codemirror_mode": {
    "name": "ipython",
    "version": 3
   },
   "file_extension": ".py",
   "mimetype": "text/x-python",
   "name": "python",
   "nbconvert_exporter": "python",
   "pygments_lexer": "ipython3",
   "version": "3.10.6"
  },
  "orig_nbformat": 4
 },
 "nbformat": 4,
 "nbformat_minor": 2
}
